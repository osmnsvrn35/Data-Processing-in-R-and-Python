{
 "cells": [
  {
   "cell_type": "markdown",
   "id": "a20de81b-2044-4f20-a920-5b9a1602efac",
   "metadata": {},
   "source": [
    "# **Homework Assignment No.2**\n",
    "# **Osman Can SAVRAN** \n",
    "# **317199**"
   ]
  },
  {
   "cell_type": "markdown",
   "id": "54e1bf4a-612f-41cd-925c-1281f2acc9b8",
   "metadata": {},
   "source": [
    "## 1) Reading the data"
   ]
  },
  {
   "cell_type": "code",
   "execution_count": 1,
   "id": "efddb841-50f2-445e-ac6c-e684c525f4c4",
   "metadata": {
    "pycharm": {
     "is_executing": true
    },
    "scrolled": true
   },
   "outputs": [],
   "source": [
    "from SAVRAN_OSMANCAN_assignment_2 import *"
   ]
  },
  {
   "cell_type": "code",
   "execution_count": 2,
   "id": "50e5485f-2add-4521-811f-c62f6725deca",
   "metadata": {
    "pycharm": {
     "is_executing": true
    }
   },
   "outputs": [],
   "source": [
    "Posts = pd.read_csv(\"travel_stackexchange/Posts.csv.gz\", compression=\"gzip\")\n",
    "Comments = pd.read_csv(\"travel_stackexchange/Comments.csv.gz\", compression=\"gzip\")\n",
    "PostLinks = pd.read_csv(\"travel_stackexchange/PostLinks.csv.gz\", compression=\"gzip\")\n",
    "Users = pd.read_csv(\"travel_stackexchange/Users.csv.gz\", compression=\"gzip\")"
   ]
  },
  {
   "cell_type": "markdown",
   "id": "0f3592b5-4d89-4bf7-b499-2711696a05fd",
   "metadata": {},
   "source": [
    "## 2) Creation of the Database"
   ]
  },
  {
   "cell_type": "code",
   "execution_count": 3,
   "id": "0c4364f8-f27d-44c0-8662-f337cb630a2c",
   "metadata": {
    "pycharm": {
     "is_executing": true
    }
   },
   "outputs": [],
   "source": [
    "baza = os.path.join(tempfile.mkdtemp(), 'example.db')\n",
    "\n",
    "if os.path.isfile(baza): # if this file already exists...\n",
    "    os.remove(baza) # ...we will remove it\n",
    "\n",
    "conn = sqlite3.connect(baza)\n",
    "\n"
   ]
  },
  {
   "cell_type": "markdown",
   "id": "1cd922f4-459a-4fd8-a392-6aba1322f980",
   "metadata": {},
   "source": [
    "## 3) Comparisons"
   ]
  },
  {
   "cell_type": "markdown",
   "id": "47354511-6f30-4b61-be9f-7b4de45adba4",
   "metadata": {},
   "source": [
    "### Query 1"
   ]
  },
  {
   "cell_type": "code",
   "execution_count": 4,
   "id": "42987477-feb7-480e-85a3-d83757915fa4",
   "metadata": {
    "pycharm": {
     "is_executing": true
    }
   },
   "outputs": [
    {
     "name": "stdout",
     "output_type": "stream",
     "text": [
      "True\n"
     ]
    }
   ],
   "source": [
    "print(sql_result_1.equals(solution_1(Posts, Users)))\n"
   ]
  },
  {
   "cell_type": "markdown",
   "id": "dd0591e5-88cc-4d67-9c65-f4f088825392",
   "metadata": {},
   "source": [
    "### Query 2"
   ]
  },
  {
   "cell_type": "code",
   "execution_count": 11,
   "id": "db4f4850-2e57-4b07-9462-f4d07dfcbb4c",
   "metadata": {},
   "outputs": [
    {
     "data": {
      "text/plain": [
       "False"
      ]
     },
     "execution_count": 11,
     "metadata": {},
     "output_type": "execute_result"
    }
   ],
   "source": [
    "sql_result_2.sort_values(by = sql_result_2.columns.tolist()).reset_index(drop = True).equals(solution_2(Posts, PostLinks).loc[:,sql_result_2.columns.tolist()].sort_values(by = sql_result_2.columns.tolist()).reset_index(drop = True))\n"
   ]
  },
  {
   "cell_type": "markdown",
   "id": "e603cc2f-99c6-4c1d-82af-aa08d38be51f",
   "metadata": {},
   "source": [
    "### Query 3"
   ]
  },
  {
   "cell_type": "code",
   "execution_count": null,
   "id": "bc90ca23-219a-4a32-81d8-1389af102976",
   "metadata": {},
   "outputs": [],
   "source": [
    "print(sql_result_3.equals(solution_3(Posts, Users, Comments)))"
   ]
  },
  {
   "cell_type": "markdown",
   "id": "f3ce18b3-ac84-41e8-97a8-4d2c0164da1e",
   "metadata": {},
   "source": [
    "### Query 4"
   ]
  },
  {
   "cell_type": "code",
   "execution_count": 6,
   "id": "777da52c-1a29-4ea6-b535-e6887c95d238",
   "metadata": {},
   "outputs": [
    {
     "name": "stdout",
     "output_type": "stream",
     "text": [
      "True\n"
     ]
    }
   ],
   "source": [
    "print(sql_result_4.equals(solution_4(Posts, Users)))"
   ]
  },
  {
   "cell_type": "markdown",
   "id": "6001c596-a237-4db6-874e-67a175f0a9d9",
   "metadata": {},
   "source": [
    "### Query 5"
   ]
  },
  {
   "cell_type": "code",
   "execution_count": 15,
   "id": "528ff49a-b36c-41d1-b1dc-7a05ba68017d",
   "metadata": {},
   "outputs": [
    {
     "data": {
      "text/plain": [
       "True"
      ]
     },
     "execution_count": 15,
     "metadata": {},
     "output_type": "execute_result"
    }
   ],
   "source": [
    "sql_result_5.sort_values(by = sql_result_5.columns.tolist()).reset_index(drop = True).equals(solution_5(Posts).loc[:,sql_result_5.columns.tolist()].sort_values(by = sql_result_5.columns.tolist()).reset_index(drop = True))\n"
   ]
  },
  {
   "cell_type": "code",
   "execution_count": 6,
   "id": "942e6dda-a3a5-4f32-a19f-f798de5f5e94",
   "metadata": {},
   "outputs": [],
   "source": [
    "conn.close()"
   ]
  },
  {
   "cell_type": "code",
   "execution_count": null,
   "id": "9991ccdf-d5f8-4f92-8560-2e04cda9520f",
   "metadata": {},
   "outputs": [],
   "source": []
  }
 ],
 "metadata": {
  "kernelspec": {
   "display_name": "Python 3 (ipykernel)",
   "language": "python",
   "name": "python3"
  },
  "language_info": {
   "codemirror_mode": {
    "name": "ipython",
    "version": 3
   },
   "file_extension": ".py",
   "mimetype": "text/x-python",
   "name": "python",
   "nbconvert_exporter": "python",
   "pygments_lexer": "ipython3",
   "version": "3.10.11"
  }
 },
 "nbformat": 4,
 "nbformat_minor": 5
}
