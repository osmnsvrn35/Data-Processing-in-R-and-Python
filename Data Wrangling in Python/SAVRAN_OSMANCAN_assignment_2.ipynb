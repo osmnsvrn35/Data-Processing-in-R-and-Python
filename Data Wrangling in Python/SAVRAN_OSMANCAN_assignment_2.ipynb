{
 "cells": [
  {
   "cell_type": "markdown",
   "id": "a20de81b-2044-4f20-a920-5b9a1602efac",
   "metadata": {},
   "source": [
    "# **Homework Assignment No.2**\n",
    "# **Osman Can SAVRAN** \n",
    "# **317199**"
   ]
  },
  {
   "cell_type": "markdown",
   "id": "54e1bf4a-612f-41cd-925c-1281f2acc9b8",
   "metadata": {},
   "source": [
    "## 1) Reading the data"
   ]
  },
  {
   "cell_type": "code",
   "execution_count": 28,
   "id": "efddb841-50f2-445e-ac6c-e684c525f4c4",
   "metadata": {
    "pycharm": {
     "is_executing": true
    },
    "scrolled": true
   },
   "outputs": [],
   "source": [
    "from SAVRAN_OSMANCAN_assignment_2 import *\n",
    "import numpy as np\n",
    "import pandas as pd\n",
    "import sqlite3\n",
    "import tempfile\n",
    "import os, os.path\n",
    "from pandasql import sqldf\n",
    "\n",
    "Posts = pd.read_csv(\"travel_stackexchange/Posts.csv.gz\", compression=\"gzip\")\n",
    "Comments = pd.read_csv(\"travel_stackexchange/Comments.csv.gz\", compression=\"gzip\")\n",
    "PostLinks = pd.read_csv(\"travel_stackexchange/PostLinks.csv.gz\", compression=\"gzip\")\n",
    "Users = pd.read_csv(\"travel_stackexchange/Users.csv.gz\", compression=\"gzip\")\n"
   ]
  },
  {
   "cell_type": "markdown",
   "id": "0f3592b5-4d89-4bf7-b499-2711696a05fd",
   "metadata": {},
   "source": [
    "## 2) Creation of the Database"
   ]
  },
  {
   "cell_type": "code",
   "execution_count": null,
   "id": "0c4364f8-f27d-44c0-8662-f337cb630a2c",
   "metadata": {
    "pycharm": {
     "is_executing": true
    }
   },
   "outputs": [
    {
     "name": "stdout",
     "output_type": "stream",
     "text": [
      "                                               Title  CommentCount  ViewCount  \\\n",
      "0  Boss is asking for passport, but it has a stam...            24    61309.0   \n",
      "1  How to intentionally get denied entry to the U...            37    72856.0   \n",
      "2  Can I wear a bulletproof vest while traveling ...            26    23467.0   \n",
      "3  OK we're all adults here, so really, how on ea...            29   113001.0   \n",
      "4  Being separated from one's young children on a...            36    14308.0   \n",
      "\n",
      "   CommentsTotalScore  DisplayName  Reputation                       Location  \n",
      "0                 630        Megha        1679                           None  \n",
      "1                 618    user11743        1997                           None  \n",
      "2                 403       Ulkoma        9190         London, United Kingdom  \n",
      "3                 388  hippietrail       75994  Sunshine Coast QLD, Australia  \n",
      "4                 358  Emma-louise         611                           None  \n"
     ]
    }
   ],
   "source": [
    "\n",
    "\n",
    "baza = os.path.join(tempfile.mkdtemp(), 'example.db')\n",
    "\n",
    "if os.path.isfile(baza): # if this file already exists...\n",
    "    os.remove(baza) # ...we will remove it\n",
    "\n",
    "conn = sqlite3.connect(baza)\n",
    "\n",
    "# import the data frame into the database\n",
    "Posts.to_sql(\"Posts\", conn)\n",
    "Users.to_sql(\"Users\", conn)\n",
    "Comments.to_sql(\"Comments\", conn)\n",
    "PostLinks.to_sql(\"PostLinks\", conn)\n",
    "\n",
    "sql_result_1 = pd.read_sql_query(\"\"\"SELECT Location, COUNT(*) AS Count\n",
    "FROM (\n",
    "SELECT Posts.OwnerUserId, Users.Id, Users.Location\n",
    "FROM Users\n",
    "JOIN Posts ON Users.Id = Posts.OwnerUserId\n",
    ")\n",
    "WHERE Location NOT IN ('')\n",
    "GROUP BY Location\n",
    "ORDER BY Count DESC\n",
    "LIMIT 10\"\"\", conn)\n",
    "\n",
    "\n",
    "\n",
    "sql_result_2 = pd.read_sql_query(\"\"\"SELECT Posts.Title, RelatedTab.NumLinks\n",
    "FROM\n",
    "(\n",
    "SELECT RelatedPostId AS PostId, COUNT(*) AS NumLinks\n",
    "FROM PostLinks\n",
    "GROUP BY RelatedPostId\n",
    ") AS RelatedTab\n",
    "JOIN Posts ON RelatedTab.PostId=Posts.Id\n",
    "WHERE Posts.PostTypeId=1\n",
    "ORDER BY NumLinks DESC\"\"\", conn)\n",
    "\n",
    "\n",
    "\n",
    "sql_result_3 = pd.read_sql_query(f\"\"\"SELECT Title, CommentCount, ViewCount, CommentsTotalScore, DisplayName, Reputation, Location\n",
    "FROM (\n",
    "SELECT Posts.OwnerUserId, Posts.Title, Posts.CommentCount, Posts.ViewCount,\n",
    "CmtTotScr.CommentsTotalScore\n",
    "FROM (\n",
    "SELECT PostId, SUM(Score) AS CommentsTotalScore\n",
    "FROM Comments\n",
    "GROUP BY PostId\n",
    ") AS CmtTotScr\n",
    "JOIN Posts ON Posts.Id = CmtTotScr.PostId\n",
    "WHERE Posts.PostTypeId=1\n",
    ") AS PostsBestComments\n",
    "JOIN Users ON PostsBestComments.OwnerUserId = Users.Id\n",
    "ORDER BY CommentsTotalScore DESC\n",
    "\"\"\", conn)\n",
    "\n",
    "\n",
    "\n",
    "sql_result_4 = pd.read_sql_query(\"\"\"SELECT DisplayName, QuestionsNumber, AnswersNumber, Location, Reputation, UpVotes, DownVotes\n",
    "FROM (\n",
    "SELECT *\n",
    "FROM (\n",
    "SELECT COUNT(*) as AnswersNumber, OwnerUserId\n",
    "FROM Posts\n",
    "WHERE PostTypeId = 2\n",
    "GROUP BY OwnerUserId\n",
    ") AS Answers\n",
    "JOIN\n",
    "(\n",
    "SELECT COUNT(*) as QuestionsNumber, OwnerUserId\n",
    "FROM Posts\n",
    "WHERE PostTypeId = 1\n",
    "GROUP BY OwnerUserId\n",
    ") AS Questions\n",
    "ON Answers.OwnerUserId = Questions.OwnerUserId\n",
    "WHERE AnswersNumber > QuestionsNumber\n",
    "ORDER BY AnswersNumber DESC\n",
    "LIMIT 5\n",
    ") AS PostsCounts\n",
    "JOIN Users\n",
    "ON PostsCounts.OwnerUserId = Users.Id\"\"\", conn)\n",
    "\n",
    "sql_result_5 = pd.read_sql_query(\"\"\"\n",
    "SELECT\n",
    "Questions.Id,\n",
    "Questions.Title,\n",
    "BestAnswers.MaxScore,\n",
    "Posts.Score AS AcceptedScore,\n",
    "BestAnswers.MaxScore-Posts.Score AS Difference\n",
    "FROM (\n",
    "SELECT Id, ParentId, MAX(Score) AS MaxScore\n",
    "FROM Posts\n",
    "WHERE PostTypeId==2\n",
    "GROUP BY ParentId\n",
    ") AS BestAnswers\n",
    "JOIN (\n",
    "SELECT * FROM Posts\n",
    "WHERE PostTypeId==1\n",
    ") AS Questions\n",
    "ON Questions.Id=BestAnswers.ParentId\n",
    "JOIN Posts ON Questions.AcceptedAnswerId=Posts.Id\n",
    "WHERE Difference>50\n",
    "ORDER BY Difference DESC\n",
    "\"\"\", conn)\n",
    "\n",
    "conn.close()"
   ]
  },
  {
   "cell_type": "markdown",
   "id": "1cd922f4-459a-4fd8-a392-6aba1322f980",
   "metadata": {},
   "source": [
    "## 3) Comparisons"
   ]
  },
  {
   "cell_type": "markdown",
   "id": "47354511-6f30-4b61-be9f-7b4de45adba4",
   "metadata": {},
   "source": [
    "### Query 1"
   ]
  },
  {
   "cell_type": "code",
   "execution_count": null,
   "id": "42987477-feb7-480e-85a3-d83757915fa4",
   "metadata": {
    "pycharm": {
     "is_executing": true
    }
   },
   "outputs": [
    {
     "name": "stdout",
     "output_type": "stream",
     "text": [
      "True\n"
     ]
    }
   ],
   "source": [
    "print(sql_result_1.equals(solution_1(Posts, Users)))\n"
   ]
  },
  {
   "cell_type": "markdown",
   "id": "dd0591e5-88cc-4d67-9c65-f4f088825392",
   "metadata": {},
   "source": [
    "### Query 2"
   ]
  },
  {
   "cell_type": "code",
   "execution_count": null,
   "id": "db4f4850-2e57-4b07-9462-f4d07dfcbb4c",
   "metadata": {},
   "outputs": [
    {
     "data": {
      "text/plain": [
       "True"
      ]
     },
     "execution_count": 24,
     "metadata": {},
     "output_type": "execute_result"
    }
   ],
   "source": [
    "sql_result_2.sort_values(by = sql_result_2.columns.tolist()).reset_index(drop = True).equals(solution_2(Posts, PostLinks).loc[:,sql_result_2.columns.tolist()].sort_values(by = sql_result_2.columns.tolist()).reset_index(drop = True))\n"
   ]
  },
  {
   "cell_type": "markdown",
   "id": "e603cc2f-99c6-4c1d-82af-aa08d38be51f",
   "metadata": {},
   "source": [
    "### Query 3"
   ]
  },
  {
   "cell_type": "markdown",
   "id": "d178d374",
   "metadata": {},
   "source": [
    "I removed the LIMIT10 from the sql_query_read due to the high compilation time and added here for comparison"
   ]
  },
  {
   "cell_type": "code",
   "execution_count": null,
   "id": "bc90ca23-219a-4a32-81d8-1389af102976",
   "metadata": {},
   "outputs": [
    {
     "data": {
      "text/plain": [
       "True"
      ]
     },
     "execution_count": 25,
     "metadata": {},
     "output_type": "execute_result"
    }
   ],
   "source": [
    "sql_result_3.head(10).equals(solution_3(Posts, Users, Comments).head(10))"
   ]
  },
  {
   "cell_type": "markdown",
   "id": "f3ce18b3-ac84-41e8-97a8-4d2c0164da1e",
   "metadata": {},
   "source": [
    "### Query 4"
   ]
  },
  {
   "cell_type": "code",
   "execution_count": null,
   "id": "777da52c-1a29-4ea6-b535-e6887c95d238",
   "metadata": {},
   "outputs": [
    {
     "name": "stdout",
     "output_type": "stream",
     "text": [
      "True\n"
     ]
    }
   ],
   "source": [
    "print(sql_result_4.equals(solution_4(Posts, Users)))"
   ]
  },
  {
   "cell_type": "markdown",
   "id": "6001c596-a237-4db6-874e-67a175f0a9d9",
   "metadata": {},
   "source": [
    "### Query 5"
   ]
  },
  {
   "cell_type": "code",
   "execution_count": null,
   "id": "528ff49a-b36c-41d1-b1dc-7a05ba68017d",
   "metadata": {},
   "outputs": [
    {
     "data": {
      "text/plain": [
       "True"
      ]
     },
     "execution_count": 27,
     "metadata": {},
     "output_type": "execute_result"
    }
   ],
   "source": [
    "sql_result_5.sort_values(by = sql_result_5.columns.tolist()).reset_index(drop = True).equals(solution_5(Posts).loc[:,sql_result_5.columns.tolist()].sort_values(by = sql_result_5.columns.tolist()).reset_index(drop = True))"
   ]
  }
 ],
 "metadata": {
  "kernelspec": {
   "display_name": "Python 3 (ipykernel)",
   "language": "python",
   "name": "python3"
  },
  "language_info": {
   "codemirror_mode": {
    "name": "ipython",
    "version": 3
   },
   "file_extension": ".py",
   "mimetype": "text/x-python",
   "name": "python",
   "nbconvert_exporter": "python",
   "pygments_lexer": "ipython3",
   "version": "3.10.11"
  }
 },
 "nbformat": 4,
 "nbformat_minor": 5
}
